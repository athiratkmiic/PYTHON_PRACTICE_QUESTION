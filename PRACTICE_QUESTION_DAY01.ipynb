{
  "nbformat": 4,
  "nbformat_minor": 0,
  "metadata": {
    "colab": {
      "provenance": []
    },
    "kernelspec": {
      "name": "python3",
      "display_name": "Python 3"
    },
    "language_info": {
      "name": "python"
    }
  },
  "cells": [
    {
      "cell_type": "markdown",
      "source": [
        "1.Given the string &quot;Hello World!&quot; , extract and print the substring &quot;Hello&quot;"
      ],
      "metadata": {
        "id": "-c3dJGtBcNEE"
      }
    },
    {
      "cell_type": "code",
      "source": [
        "S = \"Hello World!\"\n",
        "print(S[0:5])"
      ],
      "metadata": {
        "colab": {
          "base_uri": "https://localhost:8080/"
        },
        "id": "2qOoucW0cQqp",
        "outputId": "138e93e9-694c-4155-d97e-be46c327e72d"
      },
      "execution_count": 2,
      "outputs": [
        {
          "output_type": "stream",
          "name": "stdout",
          "text": [
            "Hello\n"
          ]
        }
      ]
    },
    {
      "cell_type": "markdown",
      "source": [
        "2.Given the string &quot;Python is fun&quot;, extract and print the substring &quot;is&quot;"
      ],
      "metadata": {
        "id": "i75EaGkgcrrK"
      }
    },
    {
      "cell_type": "code",
      "source": [
        "S = \"Python is fun \"\n",
        "print(S[7:9])"
      ],
      "metadata": {
        "colab": {
          "base_uri": "https://localhost:8080/"
        },
        "id": "6bsfzf2Ycwm8",
        "outputId": "e5a21fef-f749-4aeb-85da-efe1ed06353f"
      },
      "execution_count": 4,
      "outputs": [
        {
          "output_type": "stream",
          "name": "stdout",
          "text": [
            "is\n"
          ]
        }
      ]
    },
    {
      "cell_type": "markdown",
      "source": [
        "3.Given the string &quot;programming&quot;, extract and print the substring &quot;gram&quot; using slicing indices"
      ],
      "metadata": {
        "id": "VSdH_4ILdUcU"
      }
    },
    {
      "cell_type": "code",
      "source": [
        "S = \"programming\"\n",
        "print(S[3:7])"
      ],
      "metadata": {
        "colab": {
          "base_uri": "https://localhost:8080/"
        },
        "id": "5nMqlMxVdXq9",
        "outputId": "c4fb4dc4-0684-4490-c66a-4cc2243cdccd"
      },
      "execution_count": 5,
      "outputs": [
        {
          "output_type": "stream",
          "name": "stdout",
          "text": [
            "gram\n"
          ]
        }
      ]
    },
    {
      "cell_type": "markdown",
      "source": [
        "4.Given the string &quot;abcdefgh&quot;, use slicing to print only the characters at even indices"
      ],
      "metadata": {
        "id": "zR9Zg_pbdnJ6"
      }
    },
    {
      "cell_type": "code",
      "source": [
        "S =\"abcdefgh\"\n",
        "print(S[1:8:2])"
      ],
      "metadata": {
        "colab": {
          "base_uri": "https://localhost:8080/"
        },
        "id": "lmbnXrivds34",
        "outputId": "8e096f53-3368-4577-e9ef-cdb5ef63ccb5"
      },
      "execution_count": 8,
      "outputs": [
        {
          "output_type": "stream",
          "name": "stdout",
          "text": [
            "bdfh\n"
          ]
        }
      ]
    },
    {
      "cell_type": "markdown",
      "source": [
        "5.Given the string &quot;abcdefg&quot;, use negative indices to extract and print the substring &quot;efg&quot;"
      ],
      "metadata": {
        "id": "TU59e0xPeDWA"
      }
    },
    {
      "cell_type": "code",
      "source": [
        "S =\"abcdefg\"\n",
        "print(S[-3:])"
      ],
      "metadata": {
        "colab": {
          "base_uri": "https://localhost:8080/"
        },
        "id": "Z5JYsatreH6x",
        "outputId": "4adc731a-cb33-43cf-d699-9c4e2ca2379a"
      },
      "execution_count": 9,
      "outputs": [
        {
          "output_type": "stream",
          "name": "stdout",
          "text": [
            "efg\n"
          ]
        }
      ]
    },
    {
      "cell_type": "markdown",
      "source": [
        "6.Given the string &quot;Data Science&quot;, use negative indices to extract and print the last three\n",
        "characters"
      ],
      "metadata": {
        "id": "lQNCQq96eY2b"
      }
    },
    {
      "cell_type": "code",
      "source": [
        "S = \"Data Science\"\n",
        "print(S[9:12])"
      ],
      "metadata": {
        "colab": {
          "base_uri": "https://localhost:8080/"
        },
        "id": "wdNGkn-TedM7",
        "outputId": "fe7ea9a7-f4f4-4409-8c58-77152c8e434f"
      },
      "execution_count": 10,
      "outputs": [
        {
          "output_type": "stream",
          "name": "stdout",
          "text": [
            "nce\n"
          ]
        }
      ]
    },
    {
      "cell_type": "markdown",
      "source": [
        "7.Given the string &quot;abcdefghj&quot;, use slicing with a step to print the odd digit"
      ],
      "metadata": {
        "id": "cAeusDBwetfP"
      }
    },
    {
      "cell_type": "code",
      "source": [
        "S = \"abcdefghij\"\n",
        "print(S[0:10:2])"
      ],
      "metadata": {
        "colab": {
          "base_uri": "https://localhost:8080/"
        },
        "id": "zxqQHqSFezEn",
        "outputId": "10d0ba51-0c17-432b-cad5-7b1f2dea8b94"
      },
      "execution_count": 11,
      "outputs": [
        {
          "output_type": "stream",
          "name": "stdout",
          "text": [
            "acegi\n"
          ]
        }
      ]
    },
    {
      "cell_type": "markdown",
      "source": [
        "8. Given the string &quot;1234567890&quot;, use slicing with a step to print the odd digit"
      ],
      "metadata": {
        "id": "oi97HgG-e-mx"
      }
    },
    {
      "cell_type": "code",
      "source": [
        "S = \"1234567890\"\n",
        "print(S[0:10:2])"
      ],
      "metadata": {
        "colab": {
          "base_uri": "https://localhost:8080/"
        },
        "id": "t_0Zbw9MfDPU",
        "outputId": "47edeff6-1744-441e-8f5f-6f35e0d11797"
      },
      "execution_count": 12,
      "outputs": [
        {
          "output_type": "stream",
          "name": "stdout",
          "text": [
            "13579\n"
          ]
        }
      ]
    },
    {
      "cell_type": "markdown",
      "source": [
        "9.Given the string &quot;Hello&quot;, use slicing to print the string in reverse order"
      ],
      "metadata": {
        "id": "1Sr91FJMfPY3"
      }
    },
    {
      "cell_type": "code",
      "source": [
        "S = \"Hello\"\n",
        "print(S[-1:-6:-1])"
      ],
      "metadata": {
        "colab": {
          "base_uri": "https://localhost:8080/"
        },
        "id": "aMiJx8zwfTIn",
        "outputId": "a8d7170c-b95e-4535-fee7-cd2ef9c5ed05"
      },
      "execution_count": 13,
      "outputs": [
        {
          "output_type": "stream",
          "name": "stdout",
          "text": [
            "olleH\n"
          ]
        }
      ]
    },
    {
      "cell_type": "markdown",
      "source": [
        "10. Given the string &quot;abcdefghijk&quot;, extract and print the substring &quot;acegik&quot;"
      ],
      "metadata": {
        "id": "Kq3axmwvfh3N"
      }
    },
    {
      "cell_type": "code",
      "source": [
        "S = \"abcdefghijk\"\n",
        "print(S[0:11:2])"
      ],
      "metadata": {
        "colab": {
          "base_uri": "https://localhost:8080/"
        },
        "id": "75Q_mdE-fnBo",
        "outputId": "63ba933e-07c4-43f7-a437-005766882b13"
      },
      "execution_count": 14,
      "outputs": [
        {
          "output_type": "stream",
          "name": "stdout",
          "text": [
            "acegik\n"
          ]
        }
      ]
    }
  ]
}