{
  "nbformat": 4,
  "nbformat_minor": 0,
  "metadata": {
    "colab": {
      "provenance": []
    },
    "kernelspec": {
      "name": "python3",
      "display_name": "Python 3"
    },
    "language_info": {
      "name": "python"
    }
  },
  "cells": [
    {
      "cell_type": "markdown",
      "source": [
        "PRACTICE QUESTION 1"
      ],
      "metadata": {
        "id": "Xt4mBLmil8ME"
      }
    },
    {
      "cell_type": "code",
      "source": [
        "print(\"Secret Number Range\")\n",
        "for Secret_Number in range(1,11):\n",
        "  print(Secret_Number)\n",
        "Secret_Number= int(input('Enter the Secret Number:'))\n",
        "User_Number= int(input('Enter the Number:'))\n",
        "Guess = User_Number\n",
        "while (Guess!=Secret_Number):\n",
        "  if Guess > Secret_Number :\n",
        "    print(\"Too high ! Try Again\")\n",
        "    New_User_Number= int(input('Enter the New Number:'))\n",
        "    Guess = New_User_Number\n",
        "  elif Guess < Secret_Number :\n",
        "    print(\"Too low ! Try Again \")\n",
        "    New_User_Number= int(input('Enter the New Number:'))\n",
        "    Guess = New_User_Number\n",
        "  else:\n",
        "    break\n",
        "while (Guess==Secret_Number):\n",
        "  print(\"Congratulation !You guessed the number correctly!\")\n",
        "  break\n"
      ],
      "metadata": {
        "colab": {
          "base_uri": "https://localhost:8080/"
        },
        "id": "bd3IUGo2mC1I",
        "outputId": "85b92d5a-db0a-4907-f101-faaedca79ede"
      },
      "execution_count": 5,
      "outputs": [
        {
          "output_type": "stream",
          "name": "stdout",
          "text": [
            "Secret Number Range\n",
            "1\n",
            "2\n",
            "3\n",
            "4\n",
            "5\n",
            "6\n",
            "7\n",
            "8\n",
            "9\n",
            "10\n",
            "Enter the Secret Number:6\n",
            "Enter the Number:5\n",
            "Too low ! Try Again \n",
            "Enter the New Number:7\n",
            "Too high ! Try Again\n",
            "Enter the New Number:6\n",
            "Congratulation !You guessed the number correctly!\n"
          ]
        }
      ]
    },
    {
      "cell_type": "markdown",
      "source": [
        "PRACTICE QUESTION 2"
      ],
      "metadata": {
        "id": "-ELJh5h0r5vC"
      }
    },
    {
      "cell_type": "code",
      "source": [
        "L = int(input(\"Enter the Length,L:\"))\n",
        "Number = int(input(\"Enter the Number,N:\"))\n",
        "Width = int(input(\"Enter the Width,W:\"))\n",
        "Height = int(input(\"Enter the Height,H:\"))\n",
        "if Width < L or Height < L:\n",
        "   print(\"UPLOAD ANOTHER\")\n",
        "elif Width < L and Height < L:\n",
        "  print(\"UPLOAD ANOTHER\")\n",
        "elif Width >= L and Height >= L and Width == Height:\n",
        "   print(\"ACCEPTED\")\n",
        "else :\n",
        "   print(\"CROP IT\")"
      ],
      "metadata": {
        "colab": {
          "base_uri": "https://localhost:8080/"
        },
        "id": "qAbrU99wsAll",
        "outputId": "d83d2101-56e4-4787-bc85-268988ec5bbe"
      },
      "execution_count": 7,
      "outputs": [
        {
          "output_type": "stream",
          "name": "stdout",
          "text": [
            "Enter the Length,L:100\n",
            "Enter the Number,N:2\n",
            "Enter the Width,W:110\n",
            "Enter the Height,H:110\n",
            "ACCEPTED\n"
          ]
        }
      ]
    }
  ]
}