{
  "nbformat": 4,
  "nbformat_minor": 0,
  "metadata": {
    "colab": {
      "provenance": []
    },
    "kernelspec": {
      "name": "python3",
      "display_name": "Python 3"
    },
    "language_info": {
      "name": "python"
    }
  },
  "cells": [
    {
      "cell_type": "markdown",
      "source": [
        "ASSIGNMENT 3"
      ],
      "metadata": {
        "id": "NALMPux1sj93"
      }
    },
    {
      "cell_type": "markdown",
      "source": [
        "PRACTICE QUESTION: 1"
      ],
      "metadata": {
        "id": "csufoxrmsvWZ"
      }
    },
    {
      "cell_type": "code",
      "source": [
        "def number(n1,n2,n3):\n",
        "  result = n2\n",
        "  return result\n",
        "\n",
        "n1 = int(input('Enter the value of n1 :'))\n",
        "n2 = int(input('Enter the value of n2 :'))\n",
        "n3 = int(input('Enter the value of n3 :'))\n",
        "\n",
        "output = number(n1,n2,n3)\n",
        "print(\"Middle value among the three Integers : \" ,output)"
      ],
      "metadata": {
        "colab": {
          "base_uri": "https://localhost:8080/"
        },
        "id": "cuOjIPvMs0JC",
        "outputId": "40d00365-0954-4cc3-8d92-43159a184489"
      },
      "execution_count": 1,
      "outputs": [
        {
          "output_type": "stream",
          "name": "stdout",
          "text": [
            "Enter the value of n1 :4\n",
            "Enter the value of n2 :6\n",
            "Enter the value of n3 :8\n",
            "Middle value among the three Integers :  6\n"
          ]
        }
      ]
    },
    {
      "cell_type": "markdown",
      "source": [
        "PRACTICE QUESTION: 2"
      ],
      "metadata": {
        "id": "07DwPmJjtRtK"
      }
    },
    {
      "cell_type": "code",
      "source": [
        "def add(num1,num2):\n",
        "  return num1+num2\n",
        "\n",
        "def subtract(num1,num2):\n",
        "  return num1-num2\n",
        "\n",
        "def multiply(num1,num2):\n",
        "  return num1*num2\n",
        "\n",
        "def divide(num1,num2):\n",
        "  return num1/num2\n",
        "\n",
        "print(\"Select the Operation : \\n ADD / SUBTRACT / MULTIPLY / DIVIDE \\n\")\n",
        "#print(\"ADD\")\n",
        "#print(\"SUBTRACT\")\n",
        "#print(\"MULTIPLY\")\n",
        "#print(\"DIVIDE\")\n",
        "\n",
        "Option = input(\"Enter the Option : \")\n",
        "num1 = int(input(\"Enter the First Number : \"))\n",
        "num2 = int(input(\"Enter the Second Number : \"))\n",
        "\n",
        "if Option == 'ADD':\n",
        "  result = add(num1,num2)\n",
        "  print(num1, \" + \" , num2, \"=\" , result)\n",
        "\n",
        "elif Option == 'SUBTRACT':\n",
        "  result = subtract(num1,num2)\n",
        "  print(num1, \" - \" , num2 ,\"=\" , result)\n",
        "\n",
        "elif Option == 'MULTIPLY':\n",
        "  result = multiply(num1,num2)\n",
        "  print(num1 ,\" * \" , num2 ,\"=\" , result)\n",
        "\n",
        "elif Option == 'DIVIDE':\n",
        "  result = divide(num1,num2)\n",
        "  print(num1 ,\" / \" , num2 ,\"=\" , result)\n",
        "\n",
        "else:\n",
        "  print(\"Invalid Number\")\n"
      ],
      "metadata": {
        "id": "HVQePwAVt_JG",
        "outputId": "b8457375-ed27-41ce-e2a0-67abf6bd0596",
        "colab": {
          "base_uri": "https://localhost:8080/"
        }
      },
      "execution_count": 5,
      "outputs": [
        {
          "output_type": "stream",
          "name": "stdout",
          "text": [
            "Select the Operation : \n",
            " ADD / SUBTRACT / MULTIPLY / DIVIDE \n",
            "\n",
            "Enter the Option : MULTIPLY\n",
            "Enter the First Number : 10\n",
            "Enter the Second Number : 10\n",
            "10  *  10 = 100\n"
          ]
        }
      ]
    },
    {
      "cell_type": "markdown",
      "source": [
        "PRACTICE QUESTION: 3"
      ],
      "metadata": {
        "id": "a_Dt5xWZuGZm"
      }
    },
    {
      "cell_type": "code",
      "source": [
        "import math\n",
        "def sides_triangle(num):\n",
        "   result = num*num\n",
        "   return result\n",
        "\n",
        "a = int(input('Enter the value of altitude, a :'))\n",
        "b = int(input('Enter the value of base, b :'))\n",
        "\n",
        "Square_a = sides_triangle(a)\n",
        "Square_b = sides_triangle(b)\n",
        "output= Square_a + Square_b\n",
        "print(\"a^2 + b^2 =\" , output)\n",
        "\n",
        "h = math.sqrt(output)\n",
        "print(\"h^2 = a^2 + b^2\")\n",
        "print(\"Hypotenuse,h =4\",h)\n"
      ],
      "metadata": {
        "id": "fONbien1uMu-",
        "outputId": "13c933c6-b3c1-4a03-8c9f-ea5042499b18",
        "colab": {
          "base_uri": "https://localhost:8080/"
        }
      },
      "execution_count": 6,
      "outputs": [
        {
          "output_type": "stream",
          "name": "stdout",
          "text": [
            "Enter the value of altitude, a :10\n",
            "Enter the value of base, b :5\n",
            "a^2 + b^2 = 125\n",
            "h^2 = a^2 + b^2\n",
            "Hypotenuse,h =4 11.180339887498949\n"
          ]
        }
      ]
    },
    {
      "cell_type": "markdown",
      "source": [
        "PRACTICE QUESTION: 4"
      ],
      "metadata": {
        "id": "8VgjKepHujDb"
      }
    },
    {
      "cell_type": "code",
      "source": [
        "class Rectangle:\n",
        "  def __init__(self,length,width):\n",
        "    self.length=length\n",
        "    self.width=width\n",
        "\n",
        "  def calculate_perimeter(self):\n",
        "    return 2*(self.length+self.width)\n",
        "\n",
        "  def calculate_area(self):\n",
        "    return self.length*self.width\n",
        "\n",
        "\n",
        "My_rectangle = Rectangle(10,5)\n",
        "\n",
        "print(f\"Length : {My_rectangle.length}\")\n",
        "print(f\"Width : {My_rectangle.width}\")\n",
        "\n",
        "perimeter= My_rectangle.calculate_perimeter()\n",
        "area = My_rectangle.calculate_area()\n",
        "\n",
        "print(f\"Perimeter : {perimeter}\")\n",
        "print(f\"Area : {area}\")\n"
      ],
      "metadata": {
        "id": "0sAKUnU3ukWq",
        "outputId": "05f68369-610f-45f2-e7fd-9407c46680cb",
        "colab": {
          "base_uri": "https://localhost:8080/"
        }
      },
      "execution_count": 7,
      "outputs": [
        {
          "output_type": "stream",
          "name": "stdout",
          "text": [
            "Length : 10\n",
            "Width : 5\n",
            "Perimeter : 30\n",
            "Area : 50\n"
          ]
        }
      ]
    },
    {
      "cell_type": "markdown",
      "source": [
        "PRACTICE QUESTION: 5"
      ],
      "metadata": {
        "id": "IE4wKts6uswW"
      }
    },
    {
      "cell_type": "code",
      "source": [
        "class BankAccount:\n",
        "    def __init__(self, accountNumber, name, balance):\n",
        "        self.accountNumber = accountNumber\n",
        "        self.name = name\n",
        "        self.balance = balance\n",
        "\n",
        "    def deposit(self, amount):\n",
        "        if amount > 0:\n",
        "            self.balance += amount\n",
        "            print(f\"Deposit of ${amount} successful. New balance: ${self.balance}\")\n",
        "        else:\n",
        "            print(\"Invalid deposit amount. Please enter a positive value.\")\n",
        "\n",
        "    def withdrawal(self, amount):\n",
        "        if 0 < amount <= self.balance:\n",
        "            self.balance -= amount\n",
        "            print(f\"Withdrawal of ${amount} successful. New balance: ${self.balance}\")\n",
        "        else:\n",
        "            print(\"Invalid withdrawal amount or insufficient funds.\")\n",
        "\n",
        "    def bankFees(self):\n",
        "        fee_percentage = 5\n",
        "        fee_amount = (fee_percentage / 100) * self.balance\n",
        "        self.balance -= fee_amount\n",
        "        print(f\"Bank fees of {fee_percentage}% applied. New balance: ${self.balance}\")\n",
        "\n",
        "    def display(self):\n",
        "        print(f\"Account Number: {self.accountNumber}\")\n",
        "        print(f\"Account Owner: {self.name}\")\n",
        "        print(f\"Balance: ${self.balance}\")\n",
        "\n",
        "\n",
        "Account1 = BankAccount(accountNumber=12345, name=\"Athira\", balance=1000)\n",
        "\n",
        "Account1.display()\n",
        "\n",
        "Account1.deposit(500)\n",
        "\n",
        "Account1.withdrawal(200)\n",
        "\n",
        "Account1.bankFees()\n",
        "\n",
        "Account1.display()"
      ],
      "metadata": {
        "id": "fmkMFaUU2gJW",
        "outputId": "4e85df5c-9406-4954-dc0f-180f74dc4ffc",
        "colab": {
          "base_uri": "https://localhost:8080/"
        }
      },
      "execution_count": 27,
      "outputs": [
        {
          "output_type": "stream",
          "name": "stdout",
          "text": [
            "Account Number: 12345\n",
            "Account Owner: Athira\n",
            "Balance: $1000\n",
            "Deposit of $500 successful. New balance: $1500\n",
            "Withdrawal of $200 successful. New balance: $1300\n",
            "Bank fees of 5% applied. New balance: $1235.0\n",
            "Account Number: 12345\n",
            "Account Owner: Athira\n",
            "Balance: $1235.0\n"
          ]
        }
      ]
    }
  ]
}