{
  "nbformat": 4,
  "nbformat_minor": 0,
  "metadata": {
    "colab": {
      "provenance": []
    },
    "kernelspec": {
      "name": "python3",
      "display_name": "Python 3"
    },
    "language_info": {
      "name": "python"
    }
  },
  "cells": [
    {
      "cell_type": "markdown",
      "source": [
        "1. Write a program to find sum of all elements in a list of integers"
      ],
      "metadata": {
        "id": "p3S6MkcuimA8"
      }
    },
    {
      "cell_type": "code",
      "source": [
        "list1 = [11,22,33,44,55]\n",
        "Sum = sum(list1)\n",
        "print(\"Sum of all integers is\", Sum)"
      ],
      "metadata": {
        "colab": {
          "base_uri": "https://localhost:8080/"
        },
        "id": "RWhvyY2vizz2",
        "outputId": "de6bdf1c-c30e-4cc6-9032-4c1dcfe95f85"
      },
      "execution_count": 1,
      "outputs": [
        {
          "output_type": "stream",
          "name": "stdout",
          "text": [
            "Sum of all integers is 165\n"
          ]
        }
      ]
    },
    {
      "cell_type": "markdown",
      "source": [
        "2. Input a sentence as a string\n",
        "\n",
        "   a. Print its length\n",
        "\n",
        "   b. Print the first half of string\n",
        "\n",
        "\n",
        "\n"
      ],
      "metadata": {
        "id": "_cbMMFS0jXU2"
      }
    },
    {
      "cell_type": "code",
      "source": [
        "S = \"Welcome to the World of Python\"\n",
        "len(S)"
      ],
      "metadata": {
        "colab": {
          "base_uri": "https://localhost:8080/"
        },
        "id": "gsKSeJEAjdEz",
        "outputId": "ea32082a-58fd-47df-ac8c-3d38343867c6"
      },
      "execution_count": 2,
      "outputs": [
        {
          "output_type": "execute_result",
          "data": {
            "text/plain": [
              "30"
            ]
          },
          "metadata": {},
          "execution_count": 2
        }
      ]
    },
    {
      "cell_type": "code",
      "source": [
        "print(S[0:14])"
      ],
      "metadata": {
        "colab": {
          "base_uri": "https://localhost:8080/"
        },
        "id": "YFSR-Dzaj1xD",
        "outputId": "62ed5e39-385f-4d4a-d975-a942ee1fe34c"
      },
      "execution_count": 3,
      "outputs": [
        {
          "output_type": "stream",
          "name": "stdout",
          "text": [
            "Welcome to the\n"
          ]
        }
      ]
    },
    {
      "cell_type": "markdown",
      "source": [
        "3. Write a program to enter a tuple of integers as (78,45,32,19,82,77,40,39) change the third\n",
        "value in the tulpe to 100"
      ],
      "metadata": {
        "id": "rpvZIY2Ij97k"
      }
    },
    {
      "cell_type": "code",
      "source": [
        "t1 = (78,45,32,19,82,77,40,39)\n",
        "t1[2] = 100          #unchangable"
      ],
      "metadata": {
        "colab": {
          "base_uri": "https://localhost:8080/",
          "height": 193
        },
        "id": "y30OPrZ2kFvm",
        "outputId": "07904e3f-a809-4ce8-ee47-05793edf6a42"
      },
      "execution_count": 4,
      "outputs": [
        {
          "output_type": "error",
          "ename": "TypeError",
          "evalue": "ignored",
          "traceback": [
            "\u001b[0;31m---------------------------------------------------------------------------\u001b[0m",
            "\u001b[0;31mTypeError\u001b[0m                                 Traceback (most recent call last)",
            "\u001b[0;32m<ipython-input-4-32f763d3efc2>\u001b[0m in \u001b[0;36m<cell line: 2>\u001b[0;34m()\u001b[0m\n\u001b[1;32m      1\u001b[0m \u001b[0mt1\u001b[0m \u001b[0;34m=\u001b[0m \u001b[0;34m(\u001b[0m\u001b[0;36m78\u001b[0m\u001b[0;34m,\u001b[0m\u001b[0;36m45\u001b[0m\u001b[0;34m,\u001b[0m\u001b[0;36m32\u001b[0m\u001b[0;34m,\u001b[0m\u001b[0;36m19\u001b[0m\u001b[0;34m,\u001b[0m\u001b[0;36m82\u001b[0m\u001b[0;34m,\u001b[0m\u001b[0;36m77\u001b[0m\u001b[0;34m,\u001b[0m\u001b[0;36m40\u001b[0m\u001b[0;34m,\u001b[0m\u001b[0;36m39\u001b[0m\u001b[0;34m)\u001b[0m\u001b[0;34m\u001b[0m\u001b[0;34m\u001b[0m\u001b[0m\n\u001b[0;32m----> 2\u001b[0;31m \u001b[0mt1\u001b[0m\u001b[0;34m[\u001b[0m\u001b[0;36m2\u001b[0m\u001b[0;34m]\u001b[0m \u001b[0;34m=\u001b[0m \u001b[0;36m100\u001b[0m          \u001b[0;31m#unchangable\u001b[0m\u001b[0;34m\u001b[0m\u001b[0;34m\u001b[0m\u001b[0m\n\u001b[0m",
            "\u001b[0;31mTypeError\u001b[0m: 'tuple' object does not support item assignment"
          ]
        }
      ]
    },
    {
      "cell_type": "markdown",
      "source": [
        "4. Consider a list listA = [19,32,10,55,31,32,94,29,10,65,77,40,40]\n",
        "\n",
        "a. Delete the first occurance of 32"
      ],
      "metadata": {
        "id": "vYZYkBapkQza"
      }
    },
    {
      "cell_type": "code",
      "source": [
        "listA = [19,32,10,55,31,32,94,29,10,65,77,40,40]\n",
        "listA.remove(32)\n",
        "listA"
      ],
      "metadata": {
        "colab": {
          "base_uri": "https://localhost:8080/"
        },
        "id": "EIQZW0twkb1k",
        "outputId": "7945a5b1-9554-4d98-91f9-2a8b8e34c016"
      },
      "execution_count": 5,
      "outputs": [
        {
          "output_type": "execute_result",
          "data": {
            "text/plain": [
              "[19, 10, 55, 31, 32, 94, 29, 10, 65, 77, 40, 40]"
            ]
          },
          "metadata": {},
          "execution_count": 5
        }
      ]
    },
    {
      "cell_type": "markdown",
      "source": [
        "b. Delete all occurance of 40"
      ],
      "metadata": {
        "id": "k-ViOwNykzs_"
      }
    },
    {
      "cell_type": "code",
      "source": [
        "listA = [19,10,55,31,32,94,29,10,65,77,40,40]\n",
        "listA.pop()\n",
        "listA"
      ],
      "metadata": {
        "colab": {
          "base_uri": "https://localhost:8080/"
        },
        "id": "wLj2lsMrk7xD",
        "outputId": "b3c8c090-9921-482b-a02d-3e29ccc88500"
      },
      "execution_count": 6,
      "outputs": [
        {
          "output_type": "execute_result",
          "data": {
            "text/plain": [
              "[19, 10, 55, 31, 32, 94, 29, 10, 65, 77, 40]"
            ]
          },
          "metadata": {},
          "execution_count": 6
        }
      ]
    },
    {
      "cell_type": "code",
      "source": [
        "listA.pop()\n",
        "listA"
      ],
      "metadata": {
        "colab": {
          "base_uri": "https://localhost:8080/"
        },
        "id": "1i1lIjvAlFbi",
        "outputId": "8b7e60bb-f794-4873-d300-6b813e5ef398"
      },
      "execution_count": 7,
      "outputs": [
        {
          "output_type": "execute_result",
          "data": {
            "text/plain": [
              "[19, 10, 55, 31, 32, 94, 29, 10, 65, 77]"
            ]
          },
          "metadata": {},
          "execution_count": 7
        }
      ]
    },
    {
      "cell_type": "markdown",
      "source": [
        "  c. Delete the value at index = 5"
      ],
      "metadata": {
        "id": "K_EPG_m4lOzE"
      }
    },
    {
      "cell_type": "code",
      "source": [
        "listA = [19,10,55,31,32,94,29,10,65,77]\n",
        "del listA[5]\n",
        "listA"
      ],
      "metadata": {
        "colab": {
          "base_uri": "https://localhost:8080/"
        },
        "id": "czoZg77clR4Y",
        "outputId": "153daf09-1f97-4e5f-9051-89ec21ae76db"
      },
      "execution_count": 8,
      "outputs": [
        {
          "output_type": "execute_result",
          "data": {
            "text/plain": [
              "[19, 10, 55, 31, 32, 29, 10, 65, 77]"
            ]
          },
          "metadata": {},
          "execution_count": 8
        }
      ]
    },
    {
      "cell_type": "markdown",
      "source": [
        "d. Modify the value at index = 9 as 300"
      ],
      "metadata": {
        "id": "VSwYJrXzlW7V"
      }
    },
    {
      "cell_type": "code",
      "source": [
        "listA = [19,10,55,31,32,29,10,65,77]\n",
        "listA[9]= 300\n",
        "listA"
      ],
      "metadata": {
        "colab": {
          "base_uri": "https://localhost:8080/",
          "height": 210
        },
        "id": "vfdARiwhlbUQ",
        "outputId": "d46a2552-b7ad-4d41-96fe-00257a5159fe"
      },
      "execution_count": 9,
      "outputs": [
        {
          "output_type": "error",
          "ename": "IndexError",
          "evalue": "ignored",
          "traceback": [
            "\u001b[0;31m---------------------------------------------------------------------------\u001b[0m",
            "\u001b[0;31mIndexError\u001b[0m                                Traceback (most recent call last)",
            "\u001b[0;32m<ipython-input-9-05356fa10640>\u001b[0m in \u001b[0;36m<cell line: 2>\u001b[0;34m()\u001b[0m\n\u001b[1;32m      1\u001b[0m \u001b[0mlistA\u001b[0m \u001b[0;34m=\u001b[0m \u001b[0;34m[\u001b[0m\u001b[0;36m19\u001b[0m\u001b[0;34m,\u001b[0m\u001b[0;36m10\u001b[0m\u001b[0;34m,\u001b[0m\u001b[0;36m55\u001b[0m\u001b[0;34m,\u001b[0m\u001b[0;36m31\u001b[0m\u001b[0;34m,\u001b[0m\u001b[0;36m32\u001b[0m\u001b[0;34m,\u001b[0m\u001b[0;36m29\u001b[0m\u001b[0;34m,\u001b[0m\u001b[0;36m10\u001b[0m\u001b[0;34m,\u001b[0m\u001b[0;36m65\u001b[0m\u001b[0;34m,\u001b[0m\u001b[0;36m77\u001b[0m\u001b[0;34m]\u001b[0m\u001b[0;34m\u001b[0m\u001b[0;34m\u001b[0m\u001b[0m\n\u001b[0;32m----> 2\u001b[0;31m \u001b[0mlistA\u001b[0m\u001b[0;34m[\u001b[0m\u001b[0;36m9\u001b[0m\u001b[0;34m]\u001b[0m\u001b[0;34m=\u001b[0m \u001b[0;36m300\u001b[0m\u001b[0;34m\u001b[0m\u001b[0;34m\u001b[0m\u001b[0m\n\u001b[0m\u001b[1;32m      3\u001b[0m \u001b[0mlistA\u001b[0m\u001b[0;34m\u001b[0m\u001b[0;34m\u001b[0m\u001b[0m\n",
            "\u001b[0;31mIndexError\u001b[0m: list assignment index out of range"
          ]
        }
      ]
    },
    {
      "cell_type": "markdown",
      "source": [
        "   e. Add 200 at index = 2"
      ],
      "metadata": {
        "id": "PnhobhaklhkF"
      }
    },
    {
      "cell_type": "code",
      "source": [
        "listA = [19,10,55,31,32,29,10,65,77]\n",
        "listA[2]= 200 + listA[2]\n",
        "listA"
      ],
      "metadata": {
        "colab": {
          "base_uri": "https://localhost:8080/"
        },
        "id": "OhfRnLxRloJn",
        "outputId": "35212994-e443-4460-9f22-c5aac6fa72df"
      },
      "execution_count": 10,
      "outputs": [
        {
          "output_type": "execute_result",
          "data": {
            "text/plain": [
              "[19, 10, 255, 31, 32, 29, 10, 65, 77]"
            ]
          },
          "metadata": {},
          "execution_count": 10
        }
      ]
    },
    {
      "cell_type": "markdown",
      "source": [
        "  f. Print the final list with its length maximum value and sum of all elements"
      ],
      "metadata": {
        "id": "OiiasRQIltpM"
      }
    },
    {
      "cell_type": "code",
      "source": [
        "listA = [19,10,255,31,32,29,10,65,77]\n",
        "Sum=sum(listA)\n",
        "print(\"Sum of all elements is\" , Sum)\n",
        "len(listA)"
      ],
      "metadata": {
        "colab": {
          "base_uri": "https://localhost:8080/"
        },
        "id": "TtBA1v7ylzSV",
        "outputId": "ebed25f7-3fb5-401b-e20b-038050ea10d9"
      },
      "execution_count": 11,
      "outputs": [
        {
          "output_type": "stream",
          "name": "stdout",
          "text": [
            "Sum of all elements is 528\n"
          ]
        },
        {
          "output_type": "execute_result",
          "data": {
            "text/plain": [
              "9"
            ]
          },
          "metadata": {},
          "execution_count": 11
        }
      ]
    },
    {
      "cell_type": "markdown",
      "source": [
        "6. Consider a string &quot;The day has been long&quot;\n"
      ],
      "metadata": {
        "id": "QCXLdUCsmcoe"
      }
    },
    {
      "cell_type": "markdown",
      "source": [
        "  a. Delete the value at index = 4"
      ],
      "metadata": {
        "id": "2GwZeF4ZmhdJ"
      }
    },
    {
      "cell_type": "code",
      "source": [
        "S = \"The day has been long\"\n",
        "print(S[0:3],S[5:21])"
      ],
      "metadata": {
        "colab": {
          "base_uri": "https://localhost:8080/"
        },
        "id": "oVqFtuIpmjlp",
        "outputId": "a05be288-012e-4584-cb7d-3c5007e30ac0"
      },
      "execution_count": 22,
      "outputs": [
        {
          "output_type": "stream",
          "name": "stdout",
          "text": [
            "The ay has been long\n"
          ]
        }
      ]
    },
    {
      "cell_type": "markdown",
      "source": [
        "b. Print the string 4 times in a single line with space between each repetition"
      ],
      "metadata": {
        "id": "e0M99k56m116"
      }
    },
    {
      "cell_type": "code",
      "source": [
        "print(\"The ay has been long \"*4)"
      ],
      "metadata": {
        "colab": {
          "base_uri": "https://localhost:8080/"
        },
        "id": "ujMXHNclnEcX",
        "outputId": "4e846b16-b729-45f6-919e-2455403e4033"
      },
      "execution_count": 15,
      "outputs": [
        {
          "output_type": "stream",
          "name": "stdout",
          "text": [
            "The ay has been long The ay has been long The ay has been long The ay has been long \n"
          ]
        }
      ]
    },
    {
      "cell_type": "markdown",
      "source": [
        "c. Print the string 3 times in a new line each time"
      ],
      "metadata": {
        "id": "2Vh2_vPKnUgD"
      }
    },
    {
      "cell_type": "code",
      "source": [
        "print(\"The ay has been long\\n\"*3)"
      ],
      "metadata": {
        "colab": {
          "base_uri": "https://localhost:8080/"
        },
        "id": "2jq1sUqqnjlN",
        "outputId": "d5861500-3b3e-4884-8f4c-54bab8da0b2a"
      },
      "execution_count": 17,
      "outputs": [
        {
          "output_type": "stream",
          "name": "stdout",
          "text": [
            "The ay has been long\n",
            "The ay has been long\n",
            "The ay has been long\n",
            "\n"
          ]
        }
      ]
    },
    {
      "cell_type": "markdown",
      "source": [
        "d. Modify the string at index 7 as &#39;A"
      ],
      "metadata": {
        "id": "hwAmwzf-nvYa"
      }
    },
    {
      "cell_type": "code",
      "source": [
        "S = \"The ay has been long\"\n",
        "print(S[0:6]+ \" A \" +S[7:20])"
      ],
      "metadata": {
        "colab": {
          "base_uri": "https://localhost:8080/"
        },
        "id": "RnUCTW59nz-Q",
        "outputId": "aff4572f-4190-4fa4-fd91-b1f38eec4313"
      },
      "execution_count": 19,
      "outputs": [
        {
          "output_type": "stream",
          "name": "stdout",
          "text": [
            "The ay A has been long\n"
          ]
        }
      ]
    },
    {
      "cell_type": "markdown",
      "source": [
        "e. Print the string from index 4 to 15"
      ],
      "metadata": {
        "id": "HyofuGbdoKru"
      }
    },
    {
      "cell_type": "code",
      "source": [
        "S = \"The ay A has been long\"\n",
        "print(S[4:16])"
      ],
      "metadata": {
        "colab": {
          "base_uri": "https://localhost:8080/"
        },
        "id": "sjgqPfE7oPti",
        "outputId": "14459c3a-7e4a-46c6-d2f4-cd480ca28058"
      },
      "execution_count": 20,
      "outputs": [
        {
          "output_type": "stream",
          "name": "stdout",
          "text": [
            "ay A has bee\n"
          ]
        }
      ]
    },
    {
      "cell_type": "markdown",
      "source": [
        "f. Print the final string with its length"
      ],
      "metadata": {
        "id": "oTafaYcVob7G"
      }
    },
    {
      "cell_type": "code",
      "source": [
        "print(S)\n",
        "len(S)"
      ],
      "metadata": {
        "colab": {
          "base_uri": "https://localhost:8080/"
        },
        "id": "YyJgmNZ0ojI8",
        "outputId": "e862e260-02a2-4143-83dc-2f9873fc2167"
      },
      "execution_count": 21,
      "outputs": [
        {
          "output_type": "stream",
          "name": "stdout",
          "text": [
            "The ay A has been long\n"
          ]
        },
        {
          "output_type": "execute_result",
          "data": {
            "text/plain": [
              "22"
            ]
          },
          "metadata": {},
          "execution_count": 21
        }
      ]
    }
  ]
}